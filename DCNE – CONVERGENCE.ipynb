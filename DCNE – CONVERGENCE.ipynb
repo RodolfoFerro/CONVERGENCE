{
  "nbformat": 4,
  "nbformat_minor": 0,
  "metadata": {
    "colab": {
      "name": "DCNE – CONVERGENCE",
      "provenance": [],
      "collapsed_sections": [],
      "include_colab_link": true
    },
    "kernelspec": {
      "name": "python3",
      "display_name": "Python 3"
    }
  },
  "cells": [
    {
      "cell_type": "markdown",
      "metadata": {
        "id": "view-in-github",
        "colab_type": "text"
      },
      "source": [
        "<a href=\"https://colab.research.google.com/github/RodolfoFerro/DCNE-CONVERGENCE/blob/master/DCNE%20%E2%80%93%20CONVERGENCE.ipynb\" target=\"_parent\"><img src=\"https://colab.research.google.com/assets/colab-badge.svg\" alt=\"Open In Colab\"/></a>"
      ]
    },
    {
      "cell_type": "markdown",
      "metadata": {
        "id": "eAEUzski0lKP",
        "colab_type": "text"
      },
      "source": [
        "> ## DCNE – CONVERGENCE\n",
        "> ### === A LIVE Session of Science MASH-UP ===\n",
        "> **Instructor:** [Rodolfo Ferro](https://rodolfoferro.xyz) <br>\n",
        "> **Email:** <ferro@cimat.mx> <br>\n",
        "> **Twitter:** <https://twitter.com/FerroRodolfo/> <br>\n",
        "> **GitHub:** <https://github.com/RodolfoFerro/> <br>"
      ]
    },
    {
      "cell_type": "markdown",
      "metadata": {
        "id": "EiVqEeuywsWm",
        "colab_type": "text"
      },
      "source": [
        "# Can a single neuron make a simple decision?\n",
        "\n",
        "Along this notebook we'll explain how a single neuron can make a simple decision. \n",
        "\n",
        "For this problem we will build a simple perceptron, as proposed by [McCulloch & Pitts](https://es.wikipedia.org/wiki/Neurona_de_McCulloch-Pitts).\n",
        "\n",
        "\n",
        "### Problem statement:\n",
        "\n",
        "Imagine that you were invited to attend an interesting event. What are the considerations that you need to take care about in order to attend the edition?\n",
        "\n",
        "> #### What do we need to do?\n",
        "> Program a perceptron to take this simple decision.\n",
        ">\n",
        "> Specifically, we are going to do the following:\n",
        "> - Construct the class and its constructor\n",
        "> - Construct the decision making function\n",
        "> - Define a list of considerations to have in mind\n",
        "> - Think about a reasonable threshold value to make a decision\n",
        "> - Solve the problem\n",
        "\n",
        "\n",
        "## The neuron structure\n",
        "\n",
        "The following image describes a single neuron and how we will need to probram the main structure:\n",
        "\n",
        "<center>\n",
        "    <img width=\"50%\" src=\"https://camo.githubusercontent.com/0e433317a51ea67fb061925026ed3c1c3692cb35/68747470733a2f2f696e7369676874732e7365692e636d752e6564752f7365695f626c6f672f73657374696c6c695f646565706c6561726e696e675f6172746966696369616c6e6575726f6e332e706e67\">\n",
        "</center>"
      ]
    },
    {
      "cell_type": "code",
      "metadata": {
        "id": "K1VdfG_ewrJQ",
        "colab_type": "code",
        "colab": {}
      },
      "source": [
        "import numpy as np\n",
        "\n",
        "class perceptron():\n",
        "    def __init__(self, inputs, weights, name):\n",
        "        \"\"\"Class constructor.\"\"\"\n",
        "        # TODO.\n",
        "        # Initialize attributes: \n",
        "        # - Size\n",
        "        # - Inputs\n",
        "        # - Weights\n",
        "        # - Name\n",
        "        pass\n",
        "\n",
        "    def decide(self, threshold):\n",
        "        \"\"\"Deciding function.\"\"\"\n",
        "        # TODO.\n",
        "        # Compute the inner product and compare with threshold.\n",
        "        pass"
      ],
      "execution_count": 0,
      "outputs": []
    },
    {
      "cell_type": "markdown",
      "metadata": {
        "id": "eePCu3-3w3eM",
        "colab_type": "text"
      },
      "source": [
        "## Solving the problem\n",
        "\n",
        "Now that we have the neuron structure, we are able to solve our decision problem.\n",
        "\n",
        "We will genrate a list of questions so we can enter the input value and the associated weight for each one."
      ]
    },
    {
      "cell_type": "code",
      "metadata": {
        "id": "0EjXfXH4w8Ba",
        "colab_type": "code",
        "colab": {}
      },
      "source": [
        "inputs, weights = [], []\n",
        "\n",
        "considerations = [\n",
        "    \"Is it going to rain? \"\n",
        "]\n",
        "\n",
        "for consideration in considerations:\n",
        "    # Let's ask for things to consider and their weights:\n",
        "    i = int(input(consideration))\n",
        "    w = int(input(\"And its associated weight is... \"))\n",
        "    print()\n",
        "    \n",
        "    # Let's add them to our lists:\n",
        "    inputs.append(i)\n",
        "    weights.append(w)\n",
        "\n",
        "threshold = int(input(\"Now, let's set the threshold: \"))"
      ],
      "execution_count": 0,
      "outputs": []
    },
    {
      "cell_type": "code",
      "metadata": {
        "id": "w-dLAO5jxHa9",
        "colab_type": "code",
        "colab": {}
      },
      "source": [
        "p = perceptron(inputs, weights, \"A simple decision.\")\n",
        "p.size"
      ],
      "execution_count": 0,
      "outputs": []
    },
    {
      "cell_type": "markdown",
      "metadata": {
        "id": "PYpwN8PKxEps",
        "colab_type": "text"
      },
      "source": [
        "Now let's take a decision using the perceptron."
      ]
    },
    {
      "cell_type": "code",
      "metadata": {
        "id": "S1m1csp1xKCD",
        "colab_type": "code",
        "colab": {}
      },
      "source": [
        "p.decide(threshold)"
      ],
      "execution_count": 0,
      "outputs": []
    },
    {
      "cell_type": "markdown",
      "metadata": {
        "id": "GDXVFlEOxL9c",
        "colab_type": "text"
      },
      "source": [
        "#### Extra activity:\n",
        "\n",
        "Modify the values of the inputs and weights, pay attention on how the decision changes based on these values."
      ]
    },
    {
      "cell_type": "markdown",
      "metadata": {
        "id": "evc1sklOxgCw",
        "colab_type": "text"
      },
      "source": [
        "<center>\n",
        "    <hr>\n",
        "    <code>END OF SECTION</code>\n",
        "    <hr>\n",
        "</center>"
      ]
    },
    {
      "cell_type": "markdown",
      "metadata": {
        "id": "PF34tfQJxOPV",
        "colab_type": "text"
      },
      "source": [
        "# How the training works\n",
        "\n",
        "Along this notebook we'll explain how a single neuron can be trained to make a prediction. \n",
        "\n",
        "For this problem we will build a simple perceptron, as proposed by [McCulloch & Pitts](https://es.wikipedia.org/wiki/Neurona_de_McCulloch-Pitts), using the [Sigmoid function](https://en.wikipedia.org/wiki/Sigmoid_function).\n",
        "\n",
        "\n",
        "### Problem statement:\n",
        "\n",
        "We want to show a simple neuron a set of examples so it can learn how a function behaves. The set of examples is the following:\n",
        "\n",
        "- `(1, 0)` should return `1`.\n",
        "- `(0, 1)` should return `1`.\n",
        "- `(0, 0)` should return `0`.\n",
        "\n",
        "So, if we input the neuron the value of `(1, 1)`, it should be able to predict the number `1`.\n",
        "\n",
        "##### (Can you guess the function?)\n",
        "\n",
        "> #### What do we need to do?\n",
        "> Program and train a neuron to make predictions.\n",
        ">\n",
        "> Specifically, we are going to do the following:\n",
        "> - Construct the class and its constructor\n",
        "> - Define the Sigmoid function and its derivative\n",
        "> - Define the number of epochs for training\n",
        "> - Solve the problem and predict the value for the desired input\n",
        "\n",
        "\n",
        "## The neuron structure\n",
        "\n",
        "The following image describes a single neuron and how we will need to program the main structure. The activation function will be the Sigmoid function:\n",
        "\n",
        "<center>\n",
        "    <img width=\"50%\" src=\"https://camo.githubusercontent.com/0e433317a51ea67fb061925026ed3c1c3692cb35/68747470733a2f2f696e7369676874732e7365692e636d752e6564752f7365695f626c6f672f73657374696c6c695f646565706c6561726e696e675f6172746966696369616c6e6575726f6e332e706e67\">\n",
        "    <img width=\"50%\" src=\"https://cdn.hackaday.io/images/5998011530593785298.png\">\n",
        "</center>"
      ]
    },
    {
      "cell_type": "code",
      "metadata": {
        "id": "-KN63Ok6xVQq",
        "colab_type": "code",
        "colab": {}
      },
      "source": [
        "import numpy as np\n",
        "\n",
        "\n",
        "class sigmoid_neuron():\n",
        "    def __init__(self, n):\n",
        "        \"\"\"Constructor of the class.\"\"\"\n",
        "        np.random.seed(123)\n",
        "        self.synaptic_weights = 2 * np.random.random((n, 1)) - 1\n",
        "\n",
        "    def __sigmoid(self, x):\n",
        "        \"\"\"Sigmoid function.\"\"\"\n",
        "        # TODO. 1 / (1 + e^(-x))\n",
        "        pass\n",
        "\n",
        "    def __sigmoid_derivative(self, x):\n",
        "        \"\"\"Derivative of the Sigmoid function.\"\"\"\n",
        "        # TODO. x * (1 - x)\n",
        "        pass\n",
        "\n",
        "    def train(self, training_inputs, training_output, iterations):\n",
        "        \"\"\"Training function.\"\"\"\n",
        "        for iteration in range(iterations):\n",
        "            output = self.predict(training_inputs)\n",
        "            error = training_output.reshape((len(training_inputs), 1)) - output\n",
        "            adjustment = np.dot(training_inputs.T, error *\n",
        "                                self.__sigmoid_derivative(output))\n",
        "            self.synaptic_weights += adjustment\n",
        "\n",
        "    def predict(self, inputs):\n",
        "        \"\"\"Prediction function.\"\"\"\n",
        "        return self.__sigmoid(np.dot(inputs, self.synaptic_weights))"
      ],
      "execution_count": 0,
      "outputs": []
    },
    {
      "cell_type": "markdown",
      "metadata": {
        "id": "sgQ9lIiMxd5S",
        "colab_type": "text"
      },
      "source": [
        "## Generating the samples\n",
        "\n",
        "We are now able to generate a list of examples based on the problem description."
      ]
    },
    {
      "cell_type": "code",
      "metadata": {
        "id": "Uoi0MigPxqTs",
        "colab_type": "code",
        "colab": {}
      },
      "source": [
        "# Training samples:\n",
        "input_values = []   # TODO. Define the input values as a list of tuples.\n",
        "output_values = []  # TODO. Define the desired outputs.\n",
        "\n",
        "training_inputs = np.array(input_values)\n",
        "training_output = np.array(output_values).T.reshape((3, 1))"
      ],
      "execution_count": 0,
      "outputs": []
    },
    {
      "cell_type": "markdown",
      "metadata": {
        "id": "wm6iy07Mxr_y",
        "colab_type": "text"
      },
      "source": [
        "## Training the neuron\n",
        "\n",
        "To do the training, we will first define a neuron. By default it will contain random weights (since it has not been trained yet):"
      ]
    },
    {
      "cell_type": "code",
      "metadata": {
        "id": "O_-NzE8Lxtc4",
        "colab_type": "code",
        "colab": {}
      },
      "source": [
        "# Initialize Sigmoid Neuron:\n",
        "neuron = sigmoid_neuron(2)\n",
        "print(\"Initial random weights:\")\n",
        "neuron.synaptic_weights"
      ],
      "execution_count": 0,
      "outputs": []
    },
    {
      "cell_type": "markdown",
      "metadata": {
        "id": "aA-t1nSlxvES",
        "colab_type": "text"
      },
      "source": [
        "Now, let's train the neuron and see how the synaptic wheights have changed:"
      ]
    },
    {
      "cell_type": "code",
      "metadata": {
        "id": "pzYRGw9ixwsP",
        "colab_type": "code",
        "colab": {}
      },
      "source": [
        "# TODO.\n",
        "# We can modify the number of epochs to see how it performs.\n",
        "epochs = 0\n",
        "\n",
        "# We train the neuron a number of epochs:\n",
        "neuron.train(training_inputs, training_output, epochs)\n",
        "print(\"New synaptic weights after training: \")\n",
        "neuron.synaptic_weights"
      ],
      "execution_count": 0,
      "outputs": []
    },
    {
      "cell_type": "markdown",
      "metadata": {
        "id": "yF5lgWCFxylc",
        "colab_type": "text"
      },
      "source": [
        "## Making predictions:"
      ]
    },
    {
      "cell_type": "code",
      "metadata": {
        "id": "V1FWKvT7x0Fs",
        "colab_type": "code",
        "colab": {}
      },
      "source": [
        "# We predict to verify the performance:\n",
        "one_one = np.array((1, 1))\n",
        "print(\"Prediction for (1, 1): \")\n",
        "neuron.predict(one_one)"
      ],
      "execution_count": 0,
      "outputs": []
    },
    {
      "cell_type": "markdown",
      "metadata": {
        "id": "FM6L50lLx1XF",
        "colab_type": "text"
      },
      "source": [
        "<center>\n",
        "    <hr>\n",
        "    <code>END OF SECTION</code>\n",
        "    <hr>\n",
        "</center>"
      ]
    },
    {
      "cell_type": "markdown",
      "metadata": {
        "id": "Z3I6Vpbp3J5a",
        "colab_type": "text"
      },
      "source": [
        "# NOW, A LEAP OF FAITH!\n",
        "## Things begin to scale..."
      ]
    },
    {
      "cell_type": "markdown",
      "metadata": {
        "id": "srYCHEpS3KcX",
        "colab_type": "text"
      },
      "source": [
        "<center>\n",
        "    <hr>\n",
        "    <code>END OF SECTION</code>\n",
        "    <hr>\n",
        "</center>"
      ]
    },
    {
      "cell_type": "markdown",
      "metadata": {
        "id": "8z9IGqy6zPDe",
        "colab_type": "text"
      },
      "source": [
        "# Handwritten digits classification problem\n",
        "\n",
        "Along this notebook we'll explain how to use the power of cloud computing using Google Colab with a classical example: the handwritten digits classification problem using the [MNIST dataset](https://en.wikipedia.org/wiki/MNIST_database).\n",
        "\n",
        "\n",
        "The main Python package that we'll be using is [Tensorflow](https://www.tensorflow.org/).\n",
        "\n",
        "\n",
        "### Problem statement:\n",
        "\n",
        "Before we tackle the problem with a Deep Neural Network, let's understand what we'll be doing: If we write a digit, we want to be able to determine what digit we have written.\n",
        "\n",
        "> #### What do we need to do?\n",
        "> Train a Deep Learning model (in this case) using a known dataset: [MNIST](https://en.wikipedia.org/wiki/MNIST_database).\n",
        ">\n",
        "> Specifically, we are going to do the following:\n",
        "> - Load the dataset\n",
        "> - Build the model\n",
        "> - Fit the model\n",
        "> - Predict data\n",
        "\n",
        "\n",
        "# The MNIST dataset"
      ]
    },
    {
      "cell_type": "code",
      "metadata": {
        "id": "TWvmpdgAx2CU",
        "colab_type": "code",
        "colab": {}
      },
      "source": [
        "from IPython.display import IFrame\n",
        "url = 'https://en.wikipedia.org/wiki/MNIST_database'\n",
        "IFrame(url, width=\"100%\", height=400)"
      ],
      "execution_count": 0,
      "outputs": []
    },
    {
      "cell_type": "markdown",
      "metadata": {
        "id": "3E25H6er9J85",
        "colab_type": "text"
      },
      "source": [
        "## Data loading\n",
        "\n",
        "> #### Good news:\n",
        "> *The MNIST dataset is already included in the `tf.keras``\n",
        " module.*\n",
        "\n",
        "We just need to import it and split the dataset into training and testing subsets (in order to do a posterior test of accuracy).\n",
        "\n",
        "## Importing the dataset:"
      ]
    },
    {
      "cell_type": "code",
      "metadata": {
        "id": "C_46STEK9WuV",
        "colab_type": "code",
        "colab": {}
      },
      "source": [
        "import tensorflow as tf\n",
        "from tensorflow import keras\n",
        "import numpy as np\n",
        "import matplotlib.pyplot as plt\n",
        "\n",
        "# We load the fashion MNIST dataset:\n",
        "mnist = keras.datasets.mnist\n",
        "(train_images, train_labels), (test_images, test_labels) = mnist.load_data()"
      ],
      "execution_count": 0,
      "outputs": []
    },
    {
      "cell_type": "markdown",
      "metadata": {
        "id": "Ai1pQXzM-zh8",
        "colab_type": "text"
      },
      "source": [
        "### Let's create the model with `tf.keras`!\n",
        "\n"
      ]
    },
    {
      "cell_type": "code",
      "metadata": {
        "id": "zwJpR1Z_-z7u",
        "colab_type": "code",
        "colab": {}
      },
      "source": [
        "# We create a Keras sequential model:\n",
        "model = keras.Sequential([\n",
        "    keras.layers.Flatten(input_shape=(28, 28)),\n",
        "    keras.layers.Dense(128, activation=tf.nn.relu),\n",
        "    keras.layers.Dense(10, activation=tf.nn.softmax)\n",
        "])\n",
        "\n",
        "# We compile our model:\n",
        "model.compile(optimizer=keras.optimizers.Adam(),\n",
        "              loss='sparse_categorical_crossentropy',\n",
        "              metrics=['accuracy'])"
      ],
      "execution_count": 0,
      "outputs": []
    },
    {
      "cell_type": "markdown",
      "metadata": {
        "id": "IoE3daJv_Dmt",
        "colab_type": "text"
      },
      "source": [
        "### Training the model:"
      ]
    },
    {
      "cell_type": "code",
      "metadata": {
        "id": "4s80UCYK_Bua",
        "colab_type": "code",
        "colab": {}
      },
      "source": [
        "# We train the model:\n",
        "model.fit(train_images, train_labels, epochs=5)"
      ],
      "execution_count": 0,
      "outputs": []
    },
    {
      "cell_type": "markdown",
      "metadata": {
        "id": "YWB8kTIV_LDl",
        "colab_type": "text"
      },
      "source": [
        "### Evaluating the results:"
      ]
    },
    {
      "cell_type": "code",
      "metadata": {
        "id": "HDjOR2ys_KNc",
        "colab_type": "code",
        "colab": {}
      },
      "source": [
        "# We test the model with testing data:\n",
        "test_loss, test_acc = model.evaluate(test_images, test_labels, verbose=False)\n",
        "print(\"Test loss:\", test_loss)\n",
        "print(\"Test accuracy:\", test_acc)"
      ],
      "execution_count": 0,
      "outputs": []
    },
    {
      "cell_type": "markdown",
      "metadata": {
        "id": "_VDG5NKd_Mt1",
        "colab_type": "text"
      },
      "source": [
        "## Predicting from an image\n",
        "\n",
        "Now that we have a model, how do we use it?\n",
        "\n",
        "Let's load an example image from the test set:"
      ]
    },
    {
      "cell_type": "code",
      "metadata": {
        "id": "ozkJJgmTAGGy",
        "colab_type": "code",
        "colab": {}
      },
      "source": [
        "img_index = 5000\n",
        "\n",
        "plt.figure(figsize=(8, 8))\n",
        "plt.imshow(test_images[img_index], cmap='gray')\n",
        "plt.axis('off')"
      ],
      "execution_count": 0,
      "outputs": []
    },
    {
      "cell_type": "markdown",
      "metadata": {
        "id": "ilGrA9o3BhPU",
        "colab_type": "text"
      },
      "source": [
        "And now, let's make a prediction."
      ]
    },
    {
      "cell_type": "code",
      "metadata": {
        "id": "Dsck2RE3_N_S",
        "colab_type": "code",
        "colab": {}
      },
      "source": [
        "# We can predict data from images:\n",
        "prediction = model.predict(test_images[img_index].reshape((1, 28, 28)))\n",
        "print(prediction)"
      ],
      "execution_count": 0,
      "outputs": []
    },
    {
      "cell_type": "code",
      "metadata": {
        "id": "A2KgYq-4_szV",
        "colab_type": "code",
        "colab": {}
      },
      "source": [
        "# Let's build an interpretation:\n",
        "predicted_digit = np.argmax(prediction)\n",
        "print(f\"So, the 0-9 prediction would be: \\n👉🏼 {predicted_digit}\")"
      ],
      "execution_count": 0,
      "outputs": []
    },
    {
      "cell_type": "markdown",
      "metadata": {
        "id": "NoGnX34mA68p",
        "colab_type": "text"
      },
      "source": [
        "<center>\n",
        "    <hr>\n",
        "    <code>END OF SECTION</code>\n",
        "    <hr>\n",
        "</center>"
      ]
    },
    {
      "cell_type": "markdown",
      "metadata": {
        "id": "ARMgK3kLA9Gw",
        "colab_type": "text"
      },
      "source": [
        "# Now what?\n",
        "\n",
        "### You should check out papers with code...\n"
      ]
    },
    {
      "cell_type": "code",
      "metadata": {
        "id": "U0aOSpbMBH7V",
        "colab_type": "code",
        "colab": {}
      },
      "source": [
        "url = 'https://paperswithcode.com'\n",
        "IFrame(url, width=\"100%\", height=400)"
      ],
      "execution_count": 0,
      "outputs": []
    }
  ]
}